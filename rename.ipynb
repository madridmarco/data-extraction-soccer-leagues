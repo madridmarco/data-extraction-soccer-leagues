{
	"cells": [
		{
			"cell_type": "markdown",
			"metadata": {
				"editable": true,
				"trusted": true
			},
			"source": [
				"# AWS Glue Studio Notebook\n",
				"##### You are now running a AWS Glue Studio notebook; To start using your notebook you need to start an AWS Glue Interactive Session.\n"
			]
		},
		{
			"cell_type": "markdown",
			"metadata": {
				"editable": true,
				"trusted": true
			},
			"source": [
				"#### Optional: Run this cell to see available notebook commands (\"magics\").\n"
			]
		},
		{
			"cell_type": "code",
			"execution_count": null,
			"metadata": {
				"editable": true,
				"trusted": true
			},
			"outputs": [],
			"source": [
				"%help"
			]
		},
		{
			"cell_type": "markdown",
			"metadata": {
				"editable": true,
				"trusted": true
			},
			"source": [
				"####  Run this cell to set up and start your interactive session.\n"
			]
		},
		{
			"cell_type": "code",
			"execution_count": 1,
			"metadata": {
				"editable": true,
				"trusted": true
			},
			"outputs": [
				{
					"name": "stdout",
					"output_type": "stream",
					"text": [
						"Welcome to the Glue Interactive Sessions Kernel\n",
						"For more information on available magic commands, please type %help in any new cell.\n",
						"\n",
						"Please view our Getting Started page to access the most up-to-date information on the Interactive Sessions kernel: https://docs.aws.amazon.com/glue/latest/dg/interactive-sessions.html\n",
						"Installed kernel version: 1.0.4 \n",
						"Current idle_timeout is None minutes.\n",
						"idle_timeout has been set to 2880 minutes.\n",
						"Setting Glue version to: 4.0\n",
						"Previous worker type: None\n",
						"Setting new worker type to: G.1X\n",
						"Previous number of workers: None\n",
						"Setting new number of workers to: 5\n",
						"Trying to create a Glue session for the kernel.\n",
						"Session Type: glueetl\n",
						"Worker Type: G.1X\n",
						"Number of Workers: 5\n",
						"Session ID: 8551055c-9077-4fbc-a109-e8a2e2002b2a\n",
						"Applying the following default arguments:\n",
						"--glue_kernel_version 1.0.4\n",
						"--enable-glue-datacatalog true\n",
						"Waiting for session 8551055c-9077-4fbc-a109-e8a2e2002b2a to get into ready status...\n",
						"Session 8551055c-9077-4fbc-a109-e8a2e2002b2a has been created.\n",
						"\n"
					]
				}
			],
			"source": [
				"%idle_timeout 2880\n",
				"%glue_version 4.0\n",
				"%worker_type G.1X\n",
				"%number_of_workers 5\n",
				"\n",
				"import sys\n",
				"from awsglue.transforms import *\n",
				"from awsglue.utils import getResolvedOptions\n",
				"from pyspark.context import SparkContext\n",
				"from awsglue.context import GlueContext\n",
				"from awsglue.job import Job\n",
				"  \n",
				"sc = SparkContext.getOrCreate()\n",
				"glueContext = GlueContext(sc)\n",
				"spark = glueContext.spark_session\n",
				"job = Job(glueContext)"
			]
		},
		{
			"cell_type": "markdown",
			"metadata": {
				"editable": true,
				"tags": [],
				"trusted": true
			},
			"source": [
				"# Establecemos la conexión a la api\n",
				"##### Para ello le pasamos los argumentos de api host y key y establecemos conexión"
			]
		},
		{
			"cell_type": "code",
			"execution_count": 1,
			"metadata": {
				"tags": [],
				"trusted": true
			},
			"outputs": [],
			"source": [
				"import http.client\n",
				"import ssl\n",
				"import requests\n",
				"import json\n",
				"import pandas as pd\n",
				"from pandas import json_normalize\n",
				"\n",
				"# Creamos la conexión a la API\n",
				"    \n",
				"\n",
				"ssl_context = ssl._create_unverified_context()\n",
				"conn = http.client.HTTPSConnection(\"v3.football.api-sports.io\", context=ssl_context)\n",
				"\n",
				"headers = {\n",
				"    'x-rapidapi-host': \"v3.football.api-sports.io\",\n",
				"    'x-rapidapi-key': \"a7651e81f75b7516319f70fd91663320\"\n",
				"    }\n"
			]
		},
		{
			"cell_type": "markdown",
			"metadata": {
				"editable": true,
				"tags": [],
				"trusted": true
			},
			"source": [
				"# 1. Recopilamos los países\n",
				"##### PVamos a recopilar todos los países que aparecen en la aplicación, creamos un fichero parquet que almacenaremos en una ruta de s3"
			]
		},
		{
			"cell_type": "code",
			"execution_count": 2,
			"metadata": {
				"tags": [],
				"trusted": true
			},
			"outputs": [],
			"source": [
				"# Función para obtener todos los códigos de país de la API\n",
				"def get_data_paises()-> pd.DataFrame:\n",
				"\n",
				"    url_paises = \"https://v3.football.api-sports.io/countries\"\n",
				"    response = requests.request(\"GET\", url_paises, headers=headers)\n",
				"    \n",
				"    data_paises = json_normalize(response.json()['response'])\n",
				"    return data_paises"
			]
		},
		{
			"cell_type": "code",
			"execution_count": 3,
			"metadata": {
				"tags": [],
				"trusted": true
			},
			"outputs": [
				{
					"data": {
						"text/html": [
							"<div>\n",
							"<style scoped>\n",
							"    .dataframe tbody tr th:only-of-type {\n",
							"        vertical-align: middle;\n",
							"    }\n",
							"\n",
							"    .dataframe tbody tr th {\n",
							"        vertical-align: top;\n",
							"    }\n",
							"\n",
							"    .dataframe thead th {\n",
							"        text-align: right;\n",
							"    }\n",
							"</style>\n",
							"<table border=\"1\" class=\"dataframe\">\n",
							"  <thead>\n",
							"    <tr style=\"text-align: right;\">\n",
							"      <th></th>\n",
							"      <th>name</th>\n",
							"      <th>code</th>\n",
							"      <th>flag</th>\n",
							"    </tr>\n",
							"  </thead>\n",
							"  <tbody>\n",
							"    <tr>\n",
							"      <th>0</th>\n",
							"      <td>Albania</td>\n",
							"      <td>AL</td>\n",
							"      <td>https://media.api-sports.io/flags/al.svg</td>\n",
							"    </tr>\n",
							"    <tr>\n",
							"      <th>1</th>\n",
							"      <td>Algeria</td>\n",
							"      <td>DZ</td>\n",
							"      <td>https://media.api-sports.io/flags/dz.svg</td>\n",
							"    </tr>\n",
							"    <tr>\n",
							"      <th>2</th>\n",
							"      <td>Andorra</td>\n",
							"      <td>AD</td>\n",
							"      <td>https://media.api-sports.io/flags/ad.svg</td>\n",
							"    </tr>\n",
							"    <tr>\n",
							"      <th>3</th>\n",
							"      <td>Angola</td>\n",
							"      <td>AO</td>\n",
							"      <td>https://media.api-sports.io/flags/ao.svg</td>\n",
							"    </tr>\n",
							"    <tr>\n",
							"      <th>4</th>\n",
							"      <td>Antigua-And-Barbuda</td>\n",
							"      <td>AG</td>\n",
							"      <td>https://media.api-sports.io/flags/ag.svg</td>\n",
							"    </tr>\n",
							"    <tr>\n",
							"      <th>...</th>\n",
							"      <td>...</td>\n",
							"      <td>...</td>\n",
							"      <td>...</td>\n",
							"    </tr>\n",
							"    <tr>\n",
							"      <th>165</th>\n",
							"      <td>Wales</td>\n",
							"      <td>GB</td>\n",
							"      <td>https://media.api-sports.io/flags/gb.svg</td>\n",
							"    </tr>\n",
							"    <tr>\n",
							"      <th>166</th>\n",
							"      <td>World</td>\n",
							"      <td>None</td>\n",
							"      <td>None</td>\n",
							"    </tr>\n",
							"    <tr>\n",
							"      <th>167</th>\n",
							"      <td>Yemen</td>\n",
							"      <td>YE</td>\n",
							"      <td>https://media.api-sports.io/flags/ye.svg</td>\n",
							"    </tr>\n",
							"    <tr>\n",
							"      <th>168</th>\n",
							"      <td>Zambia</td>\n",
							"      <td>ZM</td>\n",
							"      <td>https://media.api-sports.io/flags/zm.svg</td>\n",
							"    </tr>\n",
							"    <tr>\n",
							"      <th>169</th>\n",
							"      <td>Zimbabwe</td>\n",
							"      <td>ZW</td>\n",
							"      <td>https://media.api-sports.io/flags/zw.svg</td>\n",
							"    </tr>\n",
							"  </tbody>\n",
							"</table>\n",
							"<p>170 rows × 3 columns</p>\n",
							"</div>"
						],
						"text/plain": [
							"                    name  code                                      flag\n",
							"0                Albania    AL  https://media.api-sports.io/flags/al.svg\n",
							"1                Algeria    DZ  https://media.api-sports.io/flags/dz.svg\n",
							"2                Andorra    AD  https://media.api-sports.io/flags/ad.svg\n",
							"3                 Angola    AO  https://media.api-sports.io/flags/ao.svg\n",
							"4    Antigua-And-Barbuda    AG  https://media.api-sports.io/flags/ag.svg\n",
							"..                   ...   ...                                       ...\n",
							"165                Wales    GB  https://media.api-sports.io/flags/gb.svg\n",
							"166                World  None                                      None\n",
							"167                Yemen    YE  https://media.api-sports.io/flags/ye.svg\n",
							"168               Zambia    ZM  https://media.api-sports.io/flags/zm.svg\n",
							"169             Zimbabwe    ZW  https://media.api-sports.io/flags/zw.svg\n",
							"\n",
							"[170 rows x 3 columns]"
						]
					},
					"execution_count": 3,
					"metadata": {},
					"output_type": "execute_result"
				}
			],
			"source": [
				"paises = get_data_paises()\n",
				"paises"
			]
		},
		{
			"cell_type": "markdown",
			"metadata": {},
			"source": [
				"# 2.Una vez que tengamos todos los países... ...lo que vamos es crear una función para traernos todas las ligas y torneos de cada país.\n",
				"##### UPDATE: Por temas de espacio sólo vamos a traernos las ligas principales (primera) de 5-6 países. ES DECIR, NO VAMOS A UTILIZAR ESTA FUNCIÓN\n",
				"##### En cualquier caso, creamos la función\n",
				"- Para ello el primer paso es crear la función get_data_leagues que lo que hace es recibir el código país que sobre el que sacar toda la info de todas las ligas\n",
				"- Hace una llamada a la país pasándole como argumento ese pais\n",
				"- Una vez recibe la respuesta, lo pasamos a json y lo \"aplanamos\"\n",
				"- Es decir, convertimos los datos de la respuesta en formato dataframe\n",
				"- Y acabamos devolviendo un dataframe"
			]
		},
		{
			"cell_type": "code",
			"execution_count": 14,
			"metadata": {
				"tags": [],
				"trusted": true
			},
			"outputs": [
				{
					"name": "stdout",
					"output_type": "stream",
					"text": [
						"\n"
					]
				}
			],
			"source": [
				"def get_data_leagues(id_pais)-> pd.DataFrame:\n",
				"\n",
				"    url = \"https://v3.football.api-sports.io/leagues?code=\" + id_pais\n",
				"    response = requests.request(\"GET\", url, headers=headers)\n",
				"    data_league = json_normalize(response.json()['response'])\n",
				"    return data_league"
			]
		},
		{
			"cell_type": "code",
			"execution_count": 15,
			"metadata": {
				"tags": [],
				"trusted": true
			},
			"outputs": [
				{
					"name": "stdout",
					"output_type": "stream",
					"text": [
						"                                                seasons  ...                              country.flag\n",
						"0     [{'year': 2011, 'start': '2011-09-25', 'end': ...  ...  https://media.api-sports.io/flags/al.svg\n",
						"1     [{'year': 2011, 'start': '2011-09-25', 'end': ...  ...  https://media.api-sports.io/flags/al.svg\n",
						"2     [{'year': 2011, 'start': '2011-09-10', 'end': ...  ...  https://media.api-sports.io/flags/al.svg\n",
						"3     [{'year': 2011, 'start': '2011-09-10', 'end': ...  ...  https://media.api-sports.io/flags/al.svg\n",
						"4     [{'year': 2020, 'start': '2020-11-01', 'end': ...  ...  https://media.api-sports.io/flags/al.svg\n",
						"...                                                 ...  ...                                       ...\n",
						"1136  [{'year': 2023, 'start': '2023-07-22', 'end': ...  ...  https://media.api-sports.io/flags/gb.svg\n",
						"1137  [{'year': 2023, 'start': '2023-11-30', 'end': ...  ...  https://media.api-sports.io/flags/gb.svg\n",
						"1138  [{'year': 2023, 'start': '2023-09-03', 'end': ...  ...  https://media.api-sports.io/flags/gb.svg\n",
						"1139  [{'year': 2012, 'start': '2012-03-24', 'end': ...  ...  https://media.api-sports.io/flags/zm.svg\n",
						"1140  [{'year': 2016, 'start': '2016-04-01', 'end': ...  ...  https://media.api-sports.io/flags/zw.svg\n",
						"\n",
						"[1141 rows x 8 columns]\n"
					]
				}
			],
			"source": [
				"# Accedemos obtenemos los datos de code de pais de la API\n",
				"# Para ello hacemos una petición a la API con la url de los países a través de un bucle que va recorriendo la respuesta de la api a los países solicitados\n",
				"paises = get_data_paises()\n",
				"df_ligas_paises = pd.DataFrame()\n",
				"for i in range(0, len(paises)):\n",
				"    cod_pais = paises.loc[i, 'code']\n",
				"    if cod_pais is not None:\n",
				"        data_leagues_aux = get_data_leagues(cod_pais)\n",
				"        df_ligas_paises = pd.concat([df_ligas_paises, data_leagues_aux], ignore_index=True)\n",
				"\n",
				"df_ligas_paises"
			]
		},
		{
			"cell_type": "code",
			"execution_count": 14,
			"metadata": {
				"tags": [],
				"trusted": true
			},
			"outputs": [
				{
					"name": "stdout",
					"output_type": "stream",
					"text": [
						"\n"
					]
				}
			],
			"source": [
				"df_ligas_paises.to_parquet('s3://rafa-tfm-bucket/countries-apifootball/ligas_paises.parquet')"
			]
		},
		{
			"cell_type": "markdown",
			"metadata": {},
			"source": [
				"## 3. Obtenemos los datos de los equipos de cada liga\n",
				"\n",
				"- Vamos a descargarnos los datos de todos los equipos de todas las ligas. Este valor es configurable y se puede cambiar por cualquier otro valor.\n",
				"- En este caso hemos creado una función en la que se le pasa el id de la liga y el año de la temporada. \n",
				"- Para ello hemos creado una función que tomando como parámetros el id de la liga y el año de la temporada.\n",
				"- Esta función accede a la país, descarga los datos y posteriormente los convierte en dataframe"
			]
		},
		{
			"cell_type": "markdown",
			"metadata": {
				"tags": []
			},
			"source": [
				"## UPDATE: VAMOS A SACAR LA INFO DE SÓLO 6 LIGAS"
			]
		},
		{
			"cell_type": "code",
			"execution_count": 16,
			"metadata": {
				"tags": [],
				"trusted": true
			},
			"outputs": [
				{
					"name": "stdout",
					"output_type": "stream",
					"text": [
						"\n"
					]
				}
			],
			"source": [
				"id_liga_spanish = 140\n",
				"id_liga_italian = 135\n",
				"id_liga_german = 78\n",
				"id_liga_english = 39\n",
				"id_liga_french = 61\n",
				"id_liga_portuguese = 94\n",
				"id_liga_holland = 88\n",
				"season = 2023"
			]
		},
		{
			"cell_type": "code",
			"execution_count": 17,
			"metadata": {
				"tags": [],
				"trusted": true
			},
			"outputs": [
				{
					"name": "stdout",
					"output_type": "stream",
					"text": [
						"\n"
					]
				}
			],
			"source": [
				"def lista_info_equipos(liga,id_season)->pd.DataFrame:\n",
				"\n",
				"    season = int(id_season)\n",
				"    id_liga = int(liga)\n",
				"\n",
				"    url = \"https://v3.football.api-sports.io/teams?league=\"+str(id_liga)+\"&season=\"+str(season)\n",
				"\n",
				"    response = requests.request(\"GET\", url, headers=headers)\n",
				"    data_info_team_league = json_normalize(response.json()['response'])\n",
				"    #añadimos la liga y la temporada\n",
				"    data_info_team_league['league.id'] = id_liga\n",
				"    data_info_team_league['season'] = season\n",
				"\n",
				"    return data_info_team_league"
			]
		},
		{
			"cell_type": "code",
			"execution_count": 18,
			"metadata": {
				"tags": [],
				"trusted": true
			},
			"outputs": [
				{
					"name": "stdout",
					"output_type": "stream",
					"text": [
						"    team.id         team.name  ... league.id season\n",
						"0       529         Barcelona  ...       140   2023\n",
						"1       530   Atletico Madrid  ...       140   2023\n",
						"2       531     Athletic Club  ...       140   2023\n",
						"3       532          Valencia  ...       140   2023\n",
						"4       533        Villarreal  ...       140   2023\n",
						"..      ...               ...  ...       ...    ...\n",
						"13      415            Twente  ...        88   2023\n",
						"14      416       FC Volendam  ...        88   2023\n",
						"15      417          Waalwijk  ...        88   2023\n",
						"16      419    Almere City FC  ...        88   2023\n",
						"17      426  Sparta Rotterdam  ...        88   2023\n",
						"\n",
						"[132 rows x 16 columns]\n"
					]
				}
			],
			"source": [
				"## Hacemos llamadas a la función con todas las ligas antes definidas\n",
				"\n",
				"df_ligas_paises = [id_liga_spanish, id_liga_italian, id_liga_german, id_liga_english, id_liga_french, id_liga_portuguese, id_liga_holland]\n",
				"\n",
				"df_info_equipos_ligas_paises = pd.DataFrame()\n",
				"for i in range(len(df_ligas_paises)):\n",
				"    id_liga = df_ligas_paises[i]\n",
				"    data_equipos_aux = lista_info_equipos(id_liga,season)\n",
				"    df_info_equipos_ligas_paises = pd.concat([df_info_equipos_ligas_paises, data_equipos_aux])\n",
				"\n",
				"df_info_equipos_ligas_paises"
			]
		},
		{
			"cell_type": "code",
			"execution_count": 19,
			"metadata": {
				"tags": [],
				"trusted": true
			},
			"outputs": [
				{
					"name": "stdout",
					"output_type": "stream",
					"text": [
						"\n"
					]
				}
			],
			"source": [
				"df_info_equipos_ligas_paises.to_parquet('s3://rafa-tfm-bucket/countries-apifootball/equipos_ligas_paises_datos.parquet')"
			]
		},
		{
			"cell_type": "markdown",
			"metadata": {},
			"source": [
				"## 4. Para cada equipo de la liga, vamos a obtener toda las estadísticas anuales acumuladas de esos equipos."
			]
		},
		{
			"cell_type": "code",
			"execution_count": 20,
			"metadata": {
				"tags": [],
				"trusted": true
			},
			"outputs": [
				{
					"name": "stdout",
					"output_type": "stream",
					"text": [
						"\n"
					]
				}
			],
			"source": [
				"def get_list_stats_equipos(id_season,id_team,id_league)->pd.DataFrame:\n",
				"\n",
				"    season = int(id_season)\n",
				"    team = int(id_team)\n",
				"    league = int(id_league)\n",
				"    \n",
				"    url_stats_equipos = \"https://v3.football.api-sports.io/teams/statistics?season=\"+str(season)+\"&team=\"+str(team)+\"&league=\"+str(league)\n",
				"    \n",
				"    response = requests.request(\"GET\", url_stats_equipos, headers=headers)\n",
				"    equipos_stats = json_normalize(response.json()['response'])\n",
				"    #Quitamos la columna lineup\n",
				"    equipos_stats = equipos_stats.drop(columns=['lineups'])\n",
				"    return equipos_stats"
			]
		},
		{
			"cell_type": "code",
			"execution_count": 21,
			"metadata": {
				"tags": [],
				"trusted": true
			},
			"outputs": [
				{
					"name": "stdout",
					"output_type": "stream",
					"text": [
						"                             form  ...  cards.red..percentage\n",
						"0   DWWWWWDWDWLWWDWLDWWWLWWDWWDWW  ...                    NaN\n",
						"0   WDWLWWWWWWLWWLWLDWLWWWDLWDWLL  ...                    NaN\n",
						"0   LWWDWWDLWLDWWDWDWWWWLDWDWLDWW  ...                    NaN\n",
						"0    WWLLWDLLDWDWLDLLDWWWWLWLDDWL  ...                    NaN\n",
						"0   LWLLWDLDLDWLLWDLLWLLDWDDDWWWW  ...                 20.00%\n",
						"..                            ...  ...                    ...\n",
						"0      WWWWLWWWDWDDLWWDWLDWWLWWWL  ...                    NaN\n",
						"0      LLLLDLWLWLDLLLLWLDLLLDLLDL  ...                    NaN\n",
						"0      LLLLWWLWLLLWDLLDLLDLWLLLWD  ...                    NaN\n",
						"0      LLLLDLWWDDWDLLLWWDLWDWLDDD  ...                    NaN\n",
						"0      WDWDLWLLDWLWLWLDWLDLLWLDLD  ...                    NaN\n",
						"\n",
						"[132 rows x 124 columns]\n"
					]
				}
			],
			"source": [
				"# Vamos a llamar a la función con todos los equipos de las ligas antes definidas. Para ello vamos a hacer un bucle que recorra todos los equipos de las ligas\n",
				"df_equipos = df_info_equipos_ligas_paises[['team.id', 'league.id']]\n",
				"df_equipos = df_equipos.drop_duplicates()\n",
				"\n",
				"df_equipos_stats = pd.DataFrame()\n",
				"for i in range(len(df_equipos)):\n",
				"    id_team = df_equipos.iloc[i,0]\n",
				"    id_league = df_equipos.iloc[i,1]\n",
				"    data_equipos_stats = get_list_stats_equipos(season,id_team,id_league)\n",
				"    df_equipos_stats = pd.concat([df_equipos_stats, data_equipos_stats])\n",
				"    \n",
				"df_equipos_stats"
			]
		},
		{
			"cell_type": "code",
			"execution_count": 22,
			"metadata": {
				"tags": [],
				"trusted": true
			},
			"outputs": [
				{
					"name": "stdout",
					"output_type": "stream",
					"text": [
						"\n"
					]
				}
			],
			"source": [
				"df_equipos_stats.to_parquet('s3://rafa-tfm-bucket/countries-apifootball/equipos_stats.parquet')"
			]
		},
		{
			"cell_type": "markdown",
			"metadata": {},
			"source": [
				"## 5. Sacamos la lista de jugadores de cada equipo"
			]
		},
		{
			"cell_type": "code",
			"execution_count": null,
			"metadata": {
				"tags": [],
				"trusted": true
			},
			"outputs": [],
			"source": [
				"def get_list_players_team(id_team)->pd.DataFrame:\n",
				"\n",
				"    team = int(id_team)\n",
				"    \n",
				"    \n",
				"    url_squad_team = \"https://v3.football.api-sports.io/players/squads?team=\"+str(team)\n",
				"    \n",
				"    response = requests.request(\"GET\", url_squad_team, headers=headers)\n",
				"    players_team = json_normalize(response.json()['response'][0]['players'])\n",
				"    #añadimos la columna team.id\n",
				"    players_team['team.id'] = team\n",
				"    return players_team\n",
				"\n"
			]
		},
		{
			"cell_type": "code",
			"execution_count": 27,
			"metadata": {
				"tags": [],
				"trusted": true
			},
			"outputs": [
				{
					"name": "stdout",
					"output_type": "stream",
					"text": [
						"        id  ... team.id\n",
						"0      127  ...     529\n",
						"1      126  ...     529\n",
						"2   336653  ...     529\n",
						"3   383647  ...     529\n",
						"4   391311  ...     529\n",
						"..     ...  ...     ...\n",
						"28  290635  ...     426\n",
						"29  359464  ...     426\n",
						"30   33838  ...     426\n",
						"31  278947  ...     426\n",
						"32  275941  ...     426\n",
						"\n",
						"[4192 rows x 7 columns]\n"
					]
				}
			],
			"source": [
				"# Hacemos una llamada a la función con todos los equipos de las ligas antes definidas. Para ello vamos a hacer un bucle que recorra todos los equipos de las ligas\n",
				"# Para ello vamos a hacer un bucle que recorra todos los equipos de las ligas\n",
				"\n",
				"df_equipos = df_info_equipos_ligas_paises[['team.id']]\n",
				"df_equipos = df_equipos.drop_duplicates()\n",
				"\n",
				"\n",
				"df_players_team = pd.DataFrame()\n",
				"for i in range(len(df_equipos)):\n",
				"    id_team = df_equipos.iloc[i,0]\n",
				"    data_players_team = get_list_players_team(id_team)\n",
				"    df_players_team = pd.concat([df_players_team, data_players_team])\n",
				"\n",
				"df_players_team"
			]
		},
		{
			"cell_type": "code",
			"execution_count": 28,
			"metadata": {
				"tags": [],
				"trusted": true
			},
			"outputs": [
				{
					"name": "stdout",
					"output_type": "stream",
					"text": [
						"\n"
					]
				}
			],
			"source": [
				"df_players_team.to_parquet('s3://rafa-tfm-bucket/countries-apifootball/players_team.parquet')"
			]
		},
		{
			"cell_type": "markdown",
			"metadata": {},
			"source": [
				"## 6. Sacamos las estadísticas anuales acumuladas de los jugadores"
			]
		},
		{
			"cell_type": "code",
			"execution_count": 29,
			"metadata": {
				"tags": [],
				"trusted": true
			},
			"outputs": [
				{
					"name": "stdout",
					"output_type": "stream",
					"text": [
						"\n"
					]
				}
			],
			"source": [
				"## PENDIENTE VER COMO LO PODEMOS SACAR las STATISTICS de manera normalizada\n",
				"\n",
				"def get_list_stats_player(id_team,id_season)->pd.DataFrame:\n",
				"\n",
				"    team = int(id_team)\n",
				"    season = int(id_season)\n",
				"\n",
				"    #vamos a sacar todas las estadiísticas de los jugadores de un equipo en una temporada\n",
				"    url_plantilla_stats = \"https://v3.football.api-sports.io/players?season=\"+str(season)+\"&team=\"+str(team)\n",
				"    response = requests.request(\"GET\", url_plantilla_stats, headers=headers)\n",
				"    df_stats_squad_info = json_normalize(response.json()['response'])\n",
				" \n",
				"    return df_stats_squad_info"
			]
		},
		{
			"cell_type": "code",
			"execution_count": 30,
			"metadata": {
				"tags": [],
				"trusted": true
			},
			"outputs": [
				{
					"name": "stdout",
					"output_type": "stream",
					"text": [
						"                                           statistics  ...                                       player.photo\n",
						"0   [{'team': {'id': 33, 'name': 'Manchester Unite...  ...  https://media.api-sports.io/football/players/3...\n",
						"1   [{'team': {'id': 33, 'name': 'Manchester Unite...  ...  https://media.api-sports.io/football/players/8...\n",
						"2   [{'team': {'id': 33, 'name': 'Manchester Unite...  ...  https://media.api-sports.io/football/players/8...\n",
						"3   [{'team': {'id': 33, 'name': 'Manchester Unite...  ...  https://media.api-sports.io/football/players/8...\n",
						"4   [{'team': {'id': 33, 'name': 'Manchester Unite...  ...  https://media.api-sports.io/football/players/9...\n",
						"5   [{'team': {'id': 33, 'name': 'Manchester Unite...  ...  https://media.api-sports.io/football/players/7...\n",
						"6   [{'team': {'id': 33, 'name': 'Manchester Unite...  ...  https://media.api-sports.io/football/players/1...\n",
						"7   [{'team': {'id': 33, 'name': 'Manchester Unite...  ...  https://media.api-sports.io/football/players/1...\n",
						"8   [{'team': {'id': 33, 'name': 'Manchester Unite...  ...  https://media.api-sports.io/football/players/2...\n",
						"9   [{'team': {'id': 33, 'name': 'Manchester Unite...  ...  https://media.api-sports.io/football/players/2...\n",
						"10  [{'team': {'id': 33, 'name': 'Manchester Unite...  ...  https://media.api-sports.io/football/players/2...\n",
						"11  [{'team': {'id': 33, 'name': 'Manchester Unite...  ...  https://media.api-sports.io/football/players/2...\n",
						"12  [{'team': {'id': 33, 'name': 'Manchester Unite...  ...  https://media.api-sports.io/football/players/2...\n",
						"13  [{'team': {'id': 33, 'name': 'Manchester Unite...  ...  https://media.api-sports.io/football/players/2...\n",
						"14  [{'team': {'id': 33, 'name': 'Manchester Unite...  ...  https://media.api-sports.io/football/players/2...\n",
						"15  [{'team': {'id': 33, 'name': 'Manchester Unite...  ...  https://media.api-sports.io/football/players/2...\n",
						"16  [{'team': {'id': 33, 'name': 'Manchester Unite...  ...  https://media.api-sports.io/football/players/2...\n",
						"17  [{'team': {'id': 33, 'name': 'Manchester Unite...  ...  https://media.api-sports.io/football/players/3...\n",
						"18  [{'team': {'id': 33, 'name': 'Manchester Unite...  ...  https://media.api-sports.io/football/players/3...\n",
						"19  [{'team': {'id': 33, 'name': 'Manchester Unite...  ...  https://media.api-sports.io/football/players/3...\n",
						"\n",
						"[20 rows x 14 columns]\n"
					]
				}
			],
			"source": [
				"prueba2 = get_list_stats_player(33,2023)\n",
				"prueba2"
			]
		},
		{
			"cell_type": "markdown",
			"metadata": {},
			"source": [
				"## 7. Sacamos los datos de partidos"
			]
		}
	],
	"metadata": {
		"kernelspec": {
			"display_name": "Python 3",
			"language": "python",
			"name": "python3"
		},
		"language_info": {
			"codemirror_mode": {
				"name": "ipython",
				"version": 3
			},
			"file_extension": ".py",
			"mimetype": "text/x-python",
			"name": "python",
			"nbconvert_exporter": "python",
			"pygments_lexer": "ipython3",
			"version": "3.9.9"
		},
		"toc-showtags": false
	},
	"nbformat": 4,
	"nbformat_minor": 4
}
